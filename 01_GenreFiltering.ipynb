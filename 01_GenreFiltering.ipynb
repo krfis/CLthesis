{
  "nbformat": 4,
  "nbformat_minor": 0,
  "metadata": {
    "colab": {
      "provenance": [],
      "authorship_tag": "ABX9TyNQlCQhsf5Xd9caI5dh6sB+"
    },
    "kernelspec": {
      "name": "python3",
      "display_name": "Python 3"
    },
    "language_info": {
      "name": "python"
    }
  },
  "cells": [
    {
      "cell_type": "code",
      "source": [
        "!pip install conllu --quiet"
      ],
      "metadata": {
        "id": "upVURDE_wmXq"
      },
      "execution_count": null,
      "outputs": []
    },
    {
      "cell_type": "code",
      "source": [
        "from conllu import parse\n",
        "from google.colab import files"
      ],
      "metadata": {
        "id": "3ri1a4KM2xps"
      },
      "execution_count": null,
      "outputs": []
    },
    {
      "cell_type": "code",
      "source": [
        "!git clone https://github.com/krfis/CLthesis.git --quiet"
      ],
      "metadata": {
        "id": "dhIFJ3kcz_Dx"
      },
      "execution_count": null,
      "outputs": []
    },
    {
      "cell_type": "code",
      "source": [
        "path = \"/content/CLthesis/data/original/to-be-filtered/sv_talbanken-ud-dev.conllu\"  # path to file to be filtered"
      ],
      "metadata": {
        "id": "RGXDQPv_xhTN"
      },
      "execution_count": null,
      "outputs": []
    },
    {
      "cell_type": "code",
      "source": [
        "with open(path, \"r\", encoding=\"utf-8\") as input:\n",
        "  data = input.read()"
      ],
      "metadata": {
        "id": "oVLXsxyI53HX"
      },
      "execution_count": null,
      "outputs": []
    },
    {
      "cell_type": "code",
      "source": [
        "sentences = parse(data)\n",
        "len(sentences)  # number of sentences in data set"
      ],
      "metadata": {
        "id": "2J-p_NGpnX4s"
      },
      "execution_count": null,
      "outputs": []
    },
    {
      "cell_type": "code",
      "source": [
        "def count_tokens(dataset):\n",
        "  '''counts tokens in a conllu dataset\n",
        "  returns token count : int'''\n",
        "\n",
        "  counter = 0\n",
        "  for sentence in dataset:\n",
        "    for token in sentence:\n",
        "      counter += 1\n",
        "  return counter"
      ],
      "metadata": {
        "id": "ojwyK6S6JHEM"
      },
      "execution_count": null,
      "outputs": []
    },
    {
      "cell_type": "code",
      "source": [
        "def write(content):\n",
        "  '''writes content of TokenLists to output file'''\n",
        "\n",
        "  with open(\"output.train\", \"w\", encoding=\"utf-8\") as output:\n",
        "    for sent in content:\n",
        "      output.write(sent.serialize())"
      ],
      "metadata": {
        "id": "Mzzxhai8oc9-"
      },
      "execution_count": null,
      "outputs": []
    },
    {
      "cell_type": "code",
      "source": [
        "count_tokens(sentences)"
      ],
      "metadata": {
        "id": "Wtj9DwDh_jX3"
      },
      "execution_count": null,
      "outputs": []
    },
    {
      "cell_type": "code",
      "source": [
        "sentence = sentences[0]  # first sentence\n",
        "sentence"
      ],
      "metadata": {
        "id": "oCZ-CS0D0_6c"
      },
      "execution_count": null,
      "outputs": []
    },
    {
      "cell_type": "code",
      "source": [
        "sentence.metadata  # metadata of sentence"
      ],
      "metadata": {
        "id": "AMDezJEKlCcg"
      },
      "execution_count": null,
      "outputs": []
    },
    {
      "cell_type": "code",
      "source": [
        "sentence[0]  # first token of first sentence"
      ],
      "metadata": {
        "id": "iSeCay-r1WSV"
      },
      "execution_count": null,
      "outputs": []
    },
    {
      "cell_type": "code",
      "source": [
        "has_discourse = []\n",
        "has_reparandum = []\n",
        "has_vocative = []\n",
        "has_email = []\n",
        "#has_speaker = []  # speaker in metadata (ARCOSG only)"
      ],
      "metadata": {
        "id": "A2m7brqP2GeU"
      },
      "execution_count": null,
      "outputs": []
    },
    {
      "cell_type": "code",
      "source": [
        "for sentence in sentences:\n",
        "  if sentence.filter(deprel=\"discourse\"):\n",
        "    has_discourse.append(sentence)\n",
        "  if sentence.filter(deprel=\"reparandum\"):\n",
        "    has_reparandum.append(sentence)\n",
        "  if sentence.filter(deprel=\"vocative\"):\n",
        "    has_vocative.append(sentence)\n",
        "  if \"@\" in sentence.metadata[\"text\"]:\n",
        "    has_email.append(sentence)\n",
        "  #if \"speaker\" in sentence.metadata:  # ACROSG only\n",
        "  #  has_speaker.append(sentence)"
      ],
      "metadata": {
        "id": "OzsOABVt1hZz"
      },
      "execution_count": null,
      "outputs": []
    },
    {
      "cell_type": "code",
      "source": [
        "print(f'Number of sentences having deprel DISCOURSE: {len(has_discourse)}')\n",
        "print(f'Number of sentences having deprel REPARANDUM: {len(has_reparandum)}')\n",
        "print(f'Number of sentences having deprel VOCATIVE: {len(has_vocative)}')\n",
        "print(f'Number of sentences having email adresses: {len(has_email)}')\n",
        "#print(f'Number of sentences having speaker metadata: {len(has_speaker)}')  # ARCOSG only"
      ],
      "metadata": {
        "id": "TlwQOZrK4VSt"
      },
      "execution_count": null,
      "outputs": []
    },
    {
      "cell_type": "code",
      "source": [
        "filtered = []"
      ],
      "metadata": {
        "id": "N-IQqSte-Mha"
      },
      "execution_count": null,
      "outputs": []
    },
    {
      "cell_type": "code",
      "source": [
        "for sentence in sentences:\n",
        "  if \"@\" not in sentence.metadata[\"text\"] and not sentence.filter(deprel=\"discourse\") and not sentence.filter(deprel=\"reparandum\") and not sentence.filter(deprel=\"vocative\"):\n",
        "    filtered.append(sentence)\n",
        "  # add the following for ARCOSG: if \"speaker\" not in sentence.metadata"
      ],
      "metadata": {
        "id": "6sK0Pk_N-K46"
      },
      "execution_count": null,
      "outputs": []
    },
    {
      "cell_type": "code",
      "source": [
        "print(f'Number of tokens in filtered data set:')\n",
        "count_tokens(filtered)"
      ],
      "metadata": {
        "id": "ottr59ItIz1x"
      },
      "execution_count": null,
      "outputs": []
    },
    {
      "cell_type": "code",
      "source": [
        "filtered[0]"
      ],
      "metadata": {
        "id": "_td7BCiJolnS"
      },
      "execution_count": null,
      "outputs": []
    },
    {
      "cell_type": "code",
      "source": [
        "write(filtered)"
      ],
      "metadata": {
        "id": "fyDT9qkTohaG"
      },
      "execution_count": null,
      "outputs": []
    },
    {
      "cell_type": "code",
      "source": [
        "files.download(\"output.train\")"
      ],
      "metadata": {
        "id": "BO3JJUnToQeY"
      },
      "execution_count": null,
      "outputs": []
    }
  ]
}