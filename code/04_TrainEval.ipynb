{
  "nbformat": 4,
  "nbformat_minor": 0,
  "metadata": {
    "colab": {
      "provenance": [],
      "gpuType": "T4",
      "machine_shape": "hm",
      "authorship_tag": "ABX9TyNFeNP7NweWKPcy8pgJvaTs"
    },
    "kernelspec": {
      "name": "python3",
      "display_name": "Python 3"
    },
    "language_info": {
      "name": "python"
    },
    "accelerator": "GPU"
  },
  "cells": [
    {
      "cell_type": "markdown",
      "source": [
        "# Installations & imports"
      ],
      "metadata": {
        "id": "0XZywZmWxZwj"
      }
    },
    {
      "cell_type": "code",
      "source": [
        "! git clone https://github.com/machamp-nlp/machamp.git --quiet  # clones machamp"
      ],
      "metadata": {
        "id": "X9wK57g3CZpf"
      },
      "execution_count": null,
      "outputs": []
    },
    {
      "cell_type": "code",
      "source": [
        "! cd machamp"
      ],
      "metadata": {
        "id": "NQWLgg8zCkMo"
      },
      "execution_count": null,
      "outputs": []
    },
    {
      "cell_type": "code",
      "source": [
        "! cd machamp; cat README.md | grep \"requirements\";  # dependencies"
      ],
      "metadata": {
        "id": "HvKBSNzSCrxG"
      },
      "execution_count": null,
      "outputs": []
    },
    {
      "cell_type": "code",
      "source": [
        "! nvidia-smi  # gpu status"
      ],
      "metadata": {
        "id": "4CLcKyD-C6Ld"
      },
      "execution_count": null,
      "outputs": []
    },
    {
      "cell_type": "code",
      "source": [
        "! cd machamp; pip3 install --user -r requirements.txt --quiet  # installs dependencies"
      ],
      "metadata": {
        "id": "OLoA3k82EBdL"
      },
      "execution_count": null,
      "outputs": []
    },
    {
      "cell_type": "code",
      "source": [
        "! export PATH=$PATH:/root/.local/bin"
      ],
      "metadata": {
        "id": "Jb90C4BXEeyF"
      },
      "execution_count": null,
      "outputs": []
    },
    {
      "cell_type": "code",
      "source": [
        "! pip install conllu --quiet"
      ],
      "metadata": {
        "id": "upVURDE_wmXq"
      },
      "execution_count": null,
      "outputs": []
    },
    {
      "cell_type": "code",
      "source": [
        "import os\n",
        "import random\n",
        "import transformers\n",
        "\n",
        "from conllu import parse"
      ],
      "metadata": {
        "id": "3ri1a4KM2xps"
      },
      "execution_count": null,
      "outputs": []
    },
    {
      "cell_type": "code",
      "source": [
        "#! rm -r /content/CLthesis  # first remove clone if necessary"
      ],
      "metadata": {
        "id": "sYR9NIM0kXlI"
      },
      "execution_count": null,
      "outputs": []
    },
    {
      "cell_type": "code",
      "source": [
        "! git clone https://github.com/krfis/clthesis.git --quiet # clones github repo with data"
      ],
      "metadata": {
        "id": "dhIFJ3kcz_Dx"
      },
      "execution_count": null,
      "outputs": []
    },
    {
      "cell_type": "markdown",
      "source": [
        "# Helper functions"
      ],
      "metadata": {
        "id": "p6f12PaLxh17"
      }
    },
    {
      "cell_type": "code",
      "source": [
        "def count_tokens(dataset):\n",
        "  '''counts tokens in a conllu dataset\n",
        "  returns token count : int'''\n",
        "\n",
        "  counter = 0\n",
        "  for sentence in dataset:\n",
        "    for token in sentence:\n",
        "      counter += 1\n",
        "  return counter"
      ],
      "metadata": {
        "id": "ojwyK6S6JHEM"
      },
      "execution_count": null,
      "outputs": []
    },
    {
      "cell_type": "code",
      "source": [
        "def process(path):\n",
        "  '''parses conllu file\n",
        "  returns parsed conllu file : list(TokenList)'''\n",
        "\n",
        "  with open(path, \"r\", encoding=\"utf-8\") as dataset:\n",
        "    input = dataset.read()\n",
        "    parsed = parse(input)\n",
        "  return parsed"
      ],
      "metadata": {
        "id": "ny9rltMUi5Xd"
      },
      "execution_count": null,
      "outputs": []
    },
    {
      "cell_type": "code",
      "source": [
        "def write(content):\n",
        "  '''writes content of TokenLists to output file'''\n",
        "\n",
        "  with open(\"output.conllu\", \"w\", encoding=\"utf-8\") as output:\n",
        "    for sent in content:\n",
        "      output.write(sent.serialize())"
      ],
      "metadata": {
        "id": "CPnL16d3kyF3"
      },
      "execution_count": null,
      "outputs": []
    },
    {
      "cell_type": "markdown",
      "source": [
        "# Models"
      ],
      "metadata": {
        "id": "ybe4yJWuxlwz"
      }
    },
    {
      "cell_type": "code",
      "source": [
        "models = {\n",
        "    \"xlm-r\" : \"FacebookAI/xlm-roberta-base\",\n",
        "    \"scandibert\" : \"vesteinn/ScandiBERT-no-faroese\",\n",
        "    \"icebert\" : \"mideind/IceBERT\",\n",
        "    \"norbert\" : \"patrickvonplaten/norwegian-roberta-base\",\n",
        "    \"swebert\" : \"birgermoell/roberta-swedish\",\n",
        "    \"danbert\" : \"DDSC/roberta-base-danish\"\n",
        "}"
      ],
      "metadata": {
        "id": "_Sik-TSY-O0C"
      },
      "execution_count": null,
      "outputs": []
    },
    {
      "cell_type": "code",
      "source": [
        "for modelname in models.values():\n",
        "  print(modelname)"
      ],
      "metadata": {
        "id": "d0s9BCbF_XXO"
      },
      "execution_count": null,
      "outputs": []
    },
    {
      "cell_type": "markdown",
      "source": [
        "# Pilot study"
      ],
      "metadata": {
        "id": "NWDspFFGjsYc"
      }
    },
    {
      "cell_type": "code",
      "source": [
        "! mkdir -p machamp/data/pilot  # creates new folder for data"
      ],
      "metadata": {
        "id": "HJU6FneujmTh"
      },
      "execution_count": null,
      "outputs": []
    },
    {
      "cell_type": "code",
      "source": [
        "# copy files to data folder\n",
        "\n",
        "! cp clthesis/data/balanced/scandi-base/single-source/train-isl-60k.conllu machamp/data/pilot/  # train set\n",
        "! cp clthesis/data/balanced/scandi-base/single-source/dev-isl-6k.conllu machamp/data/pilot/  # dev set\n",
        "! cp clthesis/data/balanced/scandi-base/single-source/test-fao.conllu machamp/data/pilot/  # test set"
      ],
      "metadata": {
        "id": "AGeCb7Szjy4N"
      },
      "execution_count": null,
      "outputs": []
    },
    {
      "cell_type": "code",
      "source": [
        "! ls machamp/data/pilot  # contents of data folder"
      ],
      "metadata": {
        "id": "RxFJWkG8lAHr"
      },
      "execution_count": null,
      "outputs": []
    },
    {
      "cell_type": "code",
      "source": [
        "#! head machamp/data/pilot/*  # inspect files"
      ],
      "metadata": {
        "id": "wmzQCq_ClEsi"
      },
      "execution_count": null,
      "outputs": []
    },
    {
      "cell_type": "code",
      "source": [
        "! cp /content/clthesis/configs/config_pilot.json machamp/configs/  # copy dataset config file to configs folder\n",
        "! cp /content/clthesis/configs/params_pilot.json machamp/configs/  # copy params file to configs folder"
      ],
      "metadata": {
        "id": "gah3A0MLrIV8"
      },
      "execution_count": null,
      "outputs": []
    },
    {
      "cell_type": "code",
      "source": [
        "! cat machamp/configs/config_pilot.json  # configs file"
      ],
      "metadata": {
        "id": "TZaNIgaWY5zT"
      },
      "execution_count": null,
      "outputs": []
    },
    {
      "cell_type": "code",
      "source": [
        "! cat machamp/configs/params_pilot.json  # params file"
      ],
      "metadata": {
        "id": "8KKS_6vjTs5P"
      },
      "execution_count": null,
      "outputs": []
    },
    {
      "cell_type": "markdown",
      "source": [
        "## Training"
      ],
      "metadata": {
        "id": "BzSov2VEWmiZ"
      }
    },
    {
      "cell_type": "code",
      "source": [
        "! cd machamp; ls; python3 train.py --dataset_configs configs/config_pilot.json --parameters_config configs/params_pilot.json --name pilot --device 0  # set device to 1 for CPU"
      ],
      "metadata": {
        "id": "QTStJ6AFrVIk"
      },
      "execution_count": null,
      "outputs": []
    },
    {
      "cell_type": "markdown",
      "source": [
        "## Testing"
      ],
      "metadata": {
        "id": "bCBdXgXTWt53"
      }
    },
    {
      "cell_type": "code",
      "source": [
        "! mkdir -p machamp/predictions  # create folder"
      ],
      "metadata": {
        "id": "OKmJ9Nu_wi5o"
      },
      "execution_count": null,
      "outputs": []
    },
    {
      "cell_type": "code",
      "source": [
        "# changed folder to * in path (see original command below)\n",
        "\n",
        "! cd machamp; python3 predict.py /content/machamp/logs/pilot/*/model.pt /content/machamp/data/pilot/test-fao.conllu predictions/pilot_test.out --device 0  # set device to 1 for CPU"
      ],
      "metadata": {
        "id": "I7WcGMPnGJ8S"
      },
      "execution_count": null,
      "outputs": []
    },
    {
      "cell_type": "code",
      "source": [
        "#! cd machamp; python3 predict.py /content/machamp/logs/pilot/2024.03.05_18.48.29/model.pt /content/machamp/data/pilot/test-fao.conllu predictions/pilot_test.out --device 0  # set device to 1 for CPU"
      ],
      "metadata": {
        "id": "rQdU6ux2wtLP"
      },
      "execution_count": null,
      "outputs": []
    }
  ]
}